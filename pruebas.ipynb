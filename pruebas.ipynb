{
 "metadata": {
  "language_info": {
   "codemirror_mode": {
    "name": "ipython",
    "version": 3
   },
   "file_extension": ".py",
   "mimetype": "text/x-python",
   "name": "python",
   "nbconvert_exporter": "python",
   "pygments_lexer": "ipython3",
   "version": "3.7.6-final"
  },
  "orig_nbformat": 2,
  "kernelspec": {
   "name": "Python 3.7.6 64-bit ('base': conda)",
   "display_name": "Python 3.7.6 64-bit ('base': conda)",
   "metadata": {
    "interpreter": {
     "hash": "90e3fb49db024d09987aedecd404f9e68bdaac879e88c8e6fedfd0c4158396c5"
    }
   }
  }
 },
 "nbformat": 4,
 "nbformat_minor": 2,
 "cells": [
  {
   "cell_type": "code",
   "execution_count": 1,
   "metadata": {},
   "outputs": [],
   "source": [
    "import pymysql as py\n",
    "import pandas as pd \n",
    "import sql, data"
   ]
  },
  {
   "cell_type": "code",
   "execution_count": 4,
   "metadata": {},
   "outputs": [],
   "source": [
    "conn = py.connect(database = \"gap_minder\", user = \"root\", password = \"camarena\")\n",
    "cursor = conn.cursor()"
   ]
  },
  {
   "cell_type": "code",
   "execution_count": 5,
   "metadata": {},
   "outputs": [
    {
     "output_type": "execute_result",
     "data": {
      "text/plain": [
       "                   country  year  population density  urban growth  \\\n",
       "0              Afghanistan  1960               13.80        0.0516   \n",
       "1                  Albania  1960               59.70        0.0539   \n",
       "2                  Algeria  1960                4.64        0.0553   \n",
       "3                   Angola  1960                4.38        0.0453   \n",
       "4      Antigua and Barbuda  1960              123.00        0.0338   \n",
       "...                    ...   ...                 ...           ...   \n",
       "10550            Venezuela  2018               32.70       -0.0176   \n",
       "10551              Vietnam  2018              308.00        0.0298   \n",
       "10552                Yemen  2018               54.00        0.0408   \n",
       "10553               Zambia  2018               23.30        0.0417   \n",
       "10554             Zimbabwe  2018               37.30        0.0132   \n",
       "\n",
       "       population  population_growth  co2_emissions  life_expectancy  \n",
       "0       9000000.0            0.01830          0.046             39.3  \n",
       "1       1640000.0            0.03020          1.240             62.2  \n",
       "2      11100000.0            0.02520          0.557             52.5  \n",
       "3       5450000.0            0.01370          0.101             40.6  \n",
       "4         54100.0            0.01690          0.677             63.3  \n",
       "...           ...                ...            ...              ...  \n",
       "10550  28900000.0           -0.01790          4.810             75.2  \n",
       "10551  95500000.0            0.00993          2.160             74.6  \n",
       "10552  28500000.0            0.02360          0.356             68.1  \n",
       "10553  17400000.0            0.02910          0.302             63.7  \n",
       "10554  14400000.0            0.01410          0.850             61.7  \n",
       "\n",
       "[10555 rows x 8 columns]"
      ],
      "text/html": "<div>\n<style scoped>\n    .dataframe tbody tr th:only-of-type {\n        vertical-align: middle;\n    }\n\n    .dataframe tbody tr th {\n        vertical-align: top;\n    }\n\n    .dataframe thead th {\n        text-align: right;\n    }\n</style>\n<table border=\"1\" class=\"dataframe\">\n  <thead>\n    <tr style=\"text-align: right;\">\n      <th></th>\n      <th>country</th>\n      <th>year</th>\n      <th>population density</th>\n      <th>urban growth</th>\n      <th>population</th>\n      <th>population_growth</th>\n      <th>co2_emissions</th>\n      <th>life_expectancy</th>\n    </tr>\n  </thead>\n  <tbody>\n    <tr>\n      <th>0</th>\n      <td>Afghanistan</td>\n      <td>1960</td>\n      <td>13.80</td>\n      <td>0.0516</td>\n      <td>9000000.0</td>\n      <td>0.01830</td>\n      <td>0.046</td>\n      <td>39.3</td>\n    </tr>\n    <tr>\n      <th>1</th>\n      <td>Albania</td>\n      <td>1960</td>\n      <td>59.70</td>\n      <td>0.0539</td>\n      <td>1640000.0</td>\n      <td>0.03020</td>\n      <td>1.240</td>\n      <td>62.2</td>\n    </tr>\n    <tr>\n      <th>2</th>\n      <td>Algeria</td>\n      <td>1960</td>\n      <td>4.64</td>\n      <td>0.0553</td>\n      <td>11100000.0</td>\n      <td>0.02520</td>\n      <td>0.557</td>\n      <td>52.5</td>\n    </tr>\n    <tr>\n      <th>3</th>\n      <td>Angola</td>\n      <td>1960</td>\n      <td>4.38</td>\n      <td>0.0453</td>\n      <td>5450000.0</td>\n      <td>0.01370</td>\n      <td>0.101</td>\n      <td>40.6</td>\n    </tr>\n    <tr>\n      <th>4</th>\n      <td>Antigua and Barbuda</td>\n      <td>1960</td>\n      <td>123.00</td>\n      <td>0.0338</td>\n      <td>54100.0</td>\n      <td>0.01690</td>\n      <td>0.677</td>\n      <td>63.3</td>\n    </tr>\n    <tr>\n      <th>...</th>\n      <td>...</td>\n      <td>...</td>\n      <td>...</td>\n      <td>...</td>\n      <td>...</td>\n      <td>...</td>\n      <td>...</td>\n      <td>...</td>\n    </tr>\n    <tr>\n      <th>10550</th>\n      <td>Venezuela</td>\n      <td>2018</td>\n      <td>32.70</td>\n      <td>-0.0176</td>\n      <td>28900000.0</td>\n      <td>-0.01790</td>\n      <td>4.810</td>\n      <td>75.2</td>\n    </tr>\n    <tr>\n      <th>10551</th>\n      <td>Vietnam</td>\n      <td>2018</td>\n      <td>308.00</td>\n      <td>0.0298</td>\n      <td>95500000.0</td>\n      <td>0.00993</td>\n      <td>2.160</td>\n      <td>74.6</td>\n    </tr>\n    <tr>\n      <th>10552</th>\n      <td>Yemen</td>\n      <td>2018</td>\n      <td>54.00</td>\n      <td>0.0408</td>\n      <td>28500000.0</td>\n      <td>0.02360</td>\n      <td>0.356</td>\n      <td>68.1</td>\n    </tr>\n    <tr>\n      <th>10553</th>\n      <td>Zambia</td>\n      <td>2018</td>\n      <td>23.30</td>\n      <td>0.0417</td>\n      <td>17400000.0</td>\n      <td>0.02910</td>\n      <td>0.302</td>\n      <td>63.7</td>\n    </tr>\n    <tr>\n      <th>10554</th>\n      <td>Zimbabwe</td>\n      <td>2018</td>\n      <td>37.30</td>\n      <td>0.0132</td>\n      <td>14400000.0</td>\n      <td>0.01410</td>\n      <td>0.850</td>\n      <td>61.7</td>\n    </tr>\n  </tbody>\n</table>\n<p>10555 rows × 8 columns</p>\n</div>"
     },
     "metadata": {},
     "execution_count": 5
    }
   ],
   "source": [
    "data = pd.read_csv(\"C:\\\\Users\\\\34609\\\\Documents\\\\Repos Git\\\\GapMinder_Python\\\\Processed_data\\\\merged_data.csv\")\n",
    "data"
   ]
  },
  {
   "cell_type": "code",
   "execution_count": 6,
   "metadata": {},
   "outputs": [
    {
     "output_type": "stream",
     "name": "stdout",
     "text": [
      "<class 'pandas.core.frame.DataFrame'>\nRangeIndex: 10555 entries, 0 to 10554\nData columns (total 8 columns):\n #   Column              Non-Null Count  Dtype  \n---  ------              --------------  -----  \n 0   country             10555 non-null  object \n 1   year                10555 non-null  int64  \n 2   population density  10555 non-null  float64\n 3   urban growth        10555 non-null  float64\n 4   population          10555 non-null  float64\n 5   population_growth   10555 non-null  float64\n 6   co2_emissions       10555 non-null  float64\n 7   life_expectancy     10555 non-null  float64\ndtypes: float64(6), int64(1), object(1)\nmemory usage: 659.8+ KB\n"
     ]
    }
   ],
   "source": [
    "data.info()"
   ]
  },
  {
   "cell_type": "code",
   "execution_count": 9,
   "metadata": {},
   "outputs": [],
   "source": [
    "columns = [\"country\", \"year\", \"population density\", \"urban growth\", \"population\", \"population_growth\", \"co2_emissions\", \"life_expectancy\"]\n",
    "null = [\"NOT NULL\", \"NOT NULL\", \"NOT NULL\", \"NOT NULL\", \"NOT NULL\", \"NOT NULL\", \"NOT NULL\", \"NOT NULL\"]\n",
    "types = [\"VARCHAR\", \"INT\", \"FLOAT\", \"FLOAT\", \"FLOAT\", \"FLOAT\", \"FLOAT\", \"FLOAT\"]\n",
    "primary_key = [columns[0], columns[1]]"
   ]
  },
  {
   "cell_type": "code",
   "execution_count": 28,
   "metadata": {},
   "outputs": [
    {
     "output_type": "execute_result",
     "data": {
      "text/plain": [
       "'year'"
      ]
     },
     "metadata": {},
     "execution_count": 28
    }
   ],
   "source": [
    "primary_key[1]"
   ]
  },
  {
   "cell_type": "code",
   "execution_count": 38,
   "metadata": {},
   "outputs": [],
   "source": [
    "name = \"a\"\n",
    "le = len(primary_key)\n",
    "query = \"DROP TABLE IF EXISTS \" + name + \" CREATE TABLE \" + name + \" (\"\n",
    "for i in range(data.shape[1]):\n",
    "    query += str(columns[i] + \" \" + types[i] + \" \" + null[i]) + \", \"\n",
    "if len(primary_key) >= 1:\n",
    "    query += \" PRIMARY KEY \"\n",
    "    for j in range(le):\n",
    "        query += str(primary_key[j]) + \", \"\n",
    "query = query[:-2] + \");\"            "
   ]
  },
  {
   "cell_type": "code",
   "execution_count": 39,
   "metadata": {},
   "outputs": [
    {
     "output_type": "execute_result",
     "data": {
      "text/plain": [
       "'DROP TABLE IF EXISTS a CREATE TABLE a (country VARCHAR NOT NULL, year INT NOT NULL, population density FLOAT NOT NULL, urban growth FLOAT NOT NULL, population FLOAT NOT NULL, population_growth FLOAT NOT NULL, co2_emissions FLOAT NOT NULL, life_expectancy FLOAT NOT NULL,  PRIMARY KEY country, year);'"
      ]
     },
     "metadata": {},
     "execution_count": 39
    }
   ],
   "source": [
    "query"
   ]
  }
 ]
}