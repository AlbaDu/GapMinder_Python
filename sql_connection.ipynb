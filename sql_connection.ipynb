{
 "metadata": {
  "language_info": {
   "codemirror_mode": {
    "name": "ipython",
    "version": 3
   },
   "file_extension": ".py",
   "mimetype": "text/x-python",
   "name": "python",
   "nbconvert_exporter": "python",
   "pygments_lexer": "ipython3",
   "version": "3.7.4-final"
  },
  "orig_nbformat": 2,
  "kernelspec": {
   "name": "Python 3.7.4 64-bit ('base': conda)",
   "display_name": "Python 3.7.4 64-bit ('base': conda)",
   "metadata": {
    "interpreter": {
     "hash": "55d852cad6d72cd63413427ae4f5418f84914edf09935ce27cf78d516463fe5a"
    }
   }
  }
 },
 "nbformat": 4,
 "nbformat_minor": 2,
 "cells": [
  {
   "source": [
    "## STEP 1: \n",
    "With this jupyter notebook combined with the *data.py* script we will be able to:\n",
    "\n",
    "        1. Preprocess the data for its introduction into a sql database\n",
    "        2. Establish a conection to the aforemention database and retrive its querys\n",
    "        3. Insert those querys into a Machine Learning algorithm"
   ],
   "cell_type": "markdown",
   "metadata": {}
  },
  {
   "cell_type": "code",
   "execution_count": 139,
   "metadata": {},
   "outputs": [],
   "source": [
    "import pandas as pd\n",
    "import numpy as np\n",
    "import datetime\n",
    "import data "
   ]
  },
  {
   "cell_type": "code",
   "execution_count": 140,
   "metadata": {},
   "outputs": [],
   "source": [
    "pop_den = data.file2df(file_ = \"population_density.csv\")\n",
    "urb_gro = data.file2df(file_ = \"urban_growth.csv\")\n",
    "pop = data.file2df(file_ = \"population.csv\")\n",
    "pop_gro = data.file2df(file_ = \"population_growth.csv\")\n",
    "life_exp = data.file2df(file_ = \"life_expectancy.csv\")\n",
    "co2_emi = data.file2df(file_ = \"co2_emissions.csv\")"
   ]
  },
  {
   "cell_type": "code",
   "execution_count": 141,
   "metadata": {},
   "outputs": [],
   "source": [
    "target = data.file2df(file_ = \"energy_person_ratio.csv\")"
   ]
  },
  {
   "cell_type": "code",
   "execution_count": 142,
   "metadata": {},
   "outputs": [
    {
     "output_type": "execute_result",
     "data": {
      "text/plain": [
       "       country   1950   1951   1952   1953   1954   1955   1956   1957   1958  \\\n",
       "0  Afghanistan  11.90  12.00  12.20  12.30  12.50  12.70  12.90  13.10  13.30   \n",
       "1      Albania  46.10  47.00  48.00  49.20  50.50  51.80  53.30  54.80  56.30   \n",
       "2      Algeria   3.73   3.79   3.86   3.93   4.01   4.10   4.20   4.31   4.41   \n",
       "3      Andorra  13.20  14.20  15.40  16.70  18.20  19.60  21.20  22.90  24.70   \n",
       "4       Angola   3.65   3.70   3.78   3.87   3.96   4.05   4.12   4.19   4.26   \n",
       "\n",
       "   ...   2091   2092   2093   2094   2095   2096   2097   2098   2099   2100  \n",
       "0  ...  117.0  117.0  117.0  117.0  116.0  116.0  116.0  115.0  115.0  115.0  \n",
       "1  ...   48.5   47.5   46.5   45.5   44.5   43.5   42.5   41.6   40.6   39.7  \n",
       "2  ...   29.6   29.6   29.6   29.6   29.7   29.7   29.7   29.7   29.7   29.7  \n",
       "3  ...  134.0  134.0  134.0  134.0  133.0  133.0  133.0  133.0  133.0  133.0  \n",
       "4  ...  135.0  136.0  138.0  140.0  142.0  144.0  146.0  147.0  149.0  151.0  \n",
       "\n",
       "[5 rows x 152 columns]"
      ],
      "text/html": "<div>\n<style scoped>\n    .dataframe tbody tr th:only-of-type {\n        vertical-align: middle;\n    }\n\n    .dataframe tbody tr th {\n        vertical-align: top;\n    }\n\n    .dataframe thead th {\n        text-align: right;\n    }\n</style>\n<table border=\"1\" class=\"dataframe\">\n  <thead>\n    <tr style=\"text-align: right;\">\n      <th></th>\n      <th>country</th>\n      <th>1950</th>\n      <th>1951</th>\n      <th>1952</th>\n      <th>1953</th>\n      <th>1954</th>\n      <th>1955</th>\n      <th>1956</th>\n      <th>1957</th>\n      <th>1958</th>\n      <th>...</th>\n      <th>2091</th>\n      <th>2092</th>\n      <th>2093</th>\n      <th>2094</th>\n      <th>2095</th>\n      <th>2096</th>\n      <th>2097</th>\n      <th>2098</th>\n      <th>2099</th>\n      <th>2100</th>\n    </tr>\n  </thead>\n  <tbody>\n    <tr>\n      <td>0</td>\n      <td>Afghanistan</td>\n      <td>11.90</td>\n      <td>12.00</td>\n      <td>12.20</td>\n      <td>12.30</td>\n      <td>12.50</td>\n      <td>12.70</td>\n      <td>12.90</td>\n      <td>13.10</td>\n      <td>13.30</td>\n      <td>...</td>\n      <td>117.0</td>\n      <td>117.0</td>\n      <td>117.0</td>\n      <td>117.0</td>\n      <td>116.0</td>\n      <td>116.0</td>\n      <td>116.0</td>\n      <td>115.0</td>\n      <td>115.0</td>\n      <td>115.0</td>\n    </tr>\n    <tr>\n      <td>1</td>\n      <td>Albania</td>\n      <td>46.10</td>\n      <td>47.00</td>\n      <td>48.00</td>\n      <td>49.20</td>\n      <td>50.50</td>\n      <td>51.80</td>\n      <td>53.30</td>\n      <td>54.80</td>\n      <td>56.30</td>\n      <td>...</td>\n      <td>48.5</td>\n      <td>47.5</td>\n      <td>46.5</td>\n      <td>45.5</td>\n      <td>44.5</td>\n      <td>43.5</td>\n      <td>42.5</td>\n      <td>41.6</td>\n      <td>40.6</td>\n      <td>39.7</td>\n    </tr>\n    <tr>\n      <td>2</td>\n      <td>Algeria</td>\n      <td>3.73</td>\n      <td>3.79</td>\n      <td>3.86</td>\n      <td>3.93</td>\n      <td>4.01</td>\n      <td>4.10</td>\n      <td>4.20</td>\n      <td>4.31</td>\n      <td>4.41</td>\n      <td>...</td>\n      <td>29.6</td>\n      <td>29.6</td>\n      <td>29.6</td>\n      <td>29.6</td>\n      <td>29.7</td>\n      <td>29.7</td>\n      <td>29.7</td>\n      <td>29.7</td>\n      <td>29.7</td>\n      <td>29.7</td>\n    </tr>\n    <tr>\n      <td>3</td>\n      <td>Andorra</td>\n      <td>13.20</td>\n      <td>14.20</td>\n      <td>15.40</td>\n      <td>16.70</td>\n      <td>18.20</td>\n      <td>19.60</td>\n      <td>21.20</td>\n      <td>22.90</td>\n      <td>24.70</td>\n      <td>...</td>\n      <td>134.0</td>\n      <td>134.0</td>\n      <td>134.0</td>\n      <td>134.0</td>\n      <td>133.0</td>\n      <td>133.0</td>\n      <td>133.0</td>\n      <td>133.0</td>\n      <td>133.0</td>\n      <td>133.0</td>\n    </tr>\n    <tr>\n      <td>4</td>\n      <td>Angola</td>\n      <td>3.65</td>\n      <td>3.70</td>\n      <td>3.78</td>\n      <td>3.87</td>\n      <td>3.96</td>\n      <td>4.05</td>\n      <td>4.12</td>\n      <td>4.19</td>\n      <td>4.26</td>\n      <td>...</td>\n      <td>135.0</td>\n      <td>136.0</td>\n      <td>138.0</td>\n      <td>140.0</td>\n      <td>142.0</td>\n      <td>144.0</td>\n      <td>146.0</td>\n      <td>147.0</td>\n      <td>149.0</td>\n      <td>151.0</td>\n    </tr>\n  </tbody>\n</table>\n<p>5 rows × 152 columns</p>\n</div>"
     },
     "metadata": {},
     "execution_count": 142
    }
   ],
   "source": [
    "pop_den.head()"
   ]
  },
  {
   "cell_type": "code",
   "execution_count": 143,
   "metadata": {},
   "outputs": [],
   "source": [
    "pop_den_melt = data.melt_df(pop_den, \"pop_den\")\n",
    "urb_gro_melt = data.melt_df(urb_gro, \"urb_gro\")\n",
    "pop_melt = data.melt_df(pop, \"pop\")\n",
    "pop_gro_melt = data.melt_df(pop_gro, \"pop_gro\")\n",
    "co2_emi_melt = data.melt_df(co2_emi, \"co2_emi\")\n",
    "life_exp_melt = data.melt_df(life_exp, \"life_exp\")\n",
    "\n",
    "target_melt = data.melt_df(target, \"target\")"
   ]
  },
  {
   "cell_type": "code",
   "execution_count": 163,
   "metadata": {},
   "outputs": [],
   "source": [
    "feature_dict = {'pop_den_melt':pop_den_melt, 'urb_gro_melt': urb_gro_melt, 'pop_melt': pop_melt, 'pop_gro_melt': pop_gro_melt, 'co2_emi_melt': co2_emi_melt, 'life_exp_melt': life_exp_melt}\n",
    "\n",
    "feature_dict_keys = list(feature_dict.keys())\n",
    "merged1 = pd.merge(left = pop_den_melt, right = urb_gro_melt, how = \"outer\", on = [\"country\", \"year\"])\n",
    "# merged2 = pd.merge(left = merged1, right = pop_melt, how = \"outer\", on = [\"country\", \"year\"])\n",
    "# merged3 = pd.merge(left = merged2, right = pop_gro_melt, how = \"outer\", on = [\"country\", \"year\"])\n",
    "# merged4 = pd.merge(left = merged3, right = co2_emi_melt, how = \"outer\", on = [\"country\", \"year\"])\n",
    "# merged5 = pd.merge(left = merged4, right = life_exp_melt, how = \"outer\", on = [\"country\", \"year\"])\n",
    "# merged_data = merged5.dropna()\n",
    "# merged_data"
   ]
  },
  {
   "cell_type": "code",
   "execution_count": 160,
   "metadata": {},
   "outputs": [],
   "source": [
    "def merger (left_df, right_df, keys):\n",
    "    \"\"\"\n",
    "    ---What it does---\n",
    "    Merges two dfs on the selected keys and eliminates NaN values before returning the new df.\n",
    "    ---What it needs---\n",
    "        + A df to merge on the left (left_df)\n",
    "        + A df to merge on the rigth (right df)\n",
    "        + A key or keys (keys). Can be string or list.\n",
    "    ---What it returns---\n",
    "    A new df (new_df)\n",
    "    \"\"\"\n",
    "\n",
    "    new_df = pd.merge(left = left_df, right = right_df, how = \"outer\", on = keys)\n",
    "\n",
    "    return new_df"
   ]
  },
  {
   "cell_type": "code",
   "execution_count": 162,
   "metadata": {},
   "outputs": [
    {
     "output_type": "execute_result",
     "data": {
      "text/plain": [
       "           country  year  pop_den  urb_gro\n",
       "0      Afghanistan  1950    11.90      NaN\n",
       "1          Albania  1950    46.10      NaN\n",
       "2          Algeria  1950     3.73      NaN\n",
       "3          Andorra  1950    13.20      NaN\n",
       "4           Angola  1950     3.65      NaN\n",
       "...            ...   ...      ...      ...\n",
       "29440    Venezuela  2100    38.80      NaN\n",
       "29441      Vietnam  2100   314.00      NaN\n",
       "29442        Yemen  2100   101.00      NaN\n",
       "29443       Zambia  2100   110.00      NaN\n",
       "29444     Zimbabwe  2100    80.00      NaN\n",
       "\n",
       "[29445 rows x 4 columns]"
      ],
      "text/html": "<div>\n<style scoped>\n    .dataframe tbody tr th:only-of-type {\n        vertical-align: middle;\n    }\n\n    .dataframe tbody tr th {\n        vertical-align: top;\n    }\n\n    .dataframe thead th {\n        text-align: right;\n    }\n</style>\n<table border=\"1\" class=\"dataframe\">\n  <thead>\n    <tr style=\"text-align: right;\">\n      <th></th>\n      <th>country</th>\n      <th>year</th>\n      <th>pop_den</th>\n      <th>urb_gro</th>\n    </tr>\n  </thead>\n  <tbody>\n    <tr>\n      <td>0</td>\n      <td>Afghanistan</td>\n      <td>1950</td>\n      <td>11.90</td>\n      <td>NaN</td>\n    </tr>\n    <tr>\n      <td>1</td>\n      <td>Albania</td>\n      <td>1950</td>\n      <td>46.10</td>\n      <td>NaN</td>\n    </tr>\n    <tr>\n      <td>2</td>\n      <td>Algeria</td>\n      <td>1950</td>\n      <td>3.73</td>\n      <td>NaN</td>\n    </tr>\n    <tr>\n      <td>3</td>\n      <td>Andorra</td>\n      <td>1950</td>\n      <td>13.20</td>\n      <td>NaN</td>\n    </tr>\n    <tr>\n      <td>4</td>\n      <td>Angola</td>\n      <td>1950</td>\n      <td>3.65</td>\n      <td>NaN</td>\n    </tr>\n    <tr>\n      <td>...</td>\n      <td>...</td>\n      <td>...</td>\n      <td>...</td>\n      <td>...</td>\n    </tr>\n    <tr>\n      <td>29440</td>\n      <td>Venezuela</td>\n      <td>2100</td>\n      <td>38.80</td>\n      <td>NaN</td>\n    </tr>\n    <tr>\n      <td>29441</td>\n      <td>Vietnam</td>\n      <td>2100</td>\n      <td>314.00</td>\n      <td>NaN</td>\n    </tr>\n    <tr>\n      <td>29442</td>\n      <td>Yemen</td>\n      <td>2100</td>\n      <td>101.00</td>\n      <td>NaN</td>\n    </tr>\n    <tr>\n      <td>29443</td>\n      <td>Zambia</td>\n      <td>2100</td>\n      <td>110.00</td>\n      <td>NaN</td>\n    </tr>\n    <tr>\n      <td>29444</td>\n      <td>Zimbabwe</td>\n      <td>2100</td>\n      <td>80.00</td>\n      <td>NaN</td>\n    </tr>\n  </tbody>\n</table>\n<p>29445 rows × 4 columns</p>\n</div>"
     },
     "metadata": {},
     "execution_count": 162
    }
   ],
   "source": [
    "atry = merger (pop_den_melt, urb_gro_melt, [\"country\", \"year\"])\n",
    "atry"
   ]
  },
  {
   "cell_type": "code",
   "execution_count": 18,
   "metadata": {},
   "outputs": [
    {
     "output_type": "execute_result",
     "data": {
      "text/plain": [
       "                   country  year  pop_den  urb_gro         pop  pop_gro  \\\n",
       "1950           Afghanistan  1960    13.80   0.0516   9000000.0  0.01830   \n",
       "1951               Albania  1960    59.70   0.0539   1640000.0  0.03020   \n",
       "1952               Algeria  1960     4.64   0.0553  11100000.0  0.02520   \n",
       "1954                Angola  1960     4.38   0.0453   5450000.0  0.01370   \n",
       "1955   Antigua and Barbuda  1960   123.00   0.0338     54100.0  0.01690   \n",
       "...                    ...   ...      ...      ...         ...      ...   \n",
       "13450            Venezuela  2018    32.70  -0.0176  28900000.0 -0.01790   \n",
       "13451              Vietnam  2018   308.00   0.0298  95500000.0  0.00993   \n",
       "13452                Yemen  2018    54.00   0.0408  28500000.0  0.02360   \n",
       "13453               Zambia  2018    23.30   0.0417  17400000.0  0.02910   \n",
       "13454             Zimbabwe  2018    37.30   0.0132  14400000.0  0.01410   \n",
       "\n",
       "       co2_emi  life_exp  \n",
       "1950     0.046      39.3  \n",
       "1951     1.240      62.2  \n",
       "1952     0.557      52.5  \n",
       "1954     0.101      40.6  \n",
       "1955     0.677      63.3  \n",
       "...        ...       ...  \n",
       "13450    4.810      75.2  \n",
       "13451    2.160      74.6  \n",
       "13452    0.356      68.1  \n",
       "13453    0.302      63.7  \n",
       "13454    0.850      61.7  \n",
       "\n",
       "[10555 rows x 8 columns]"
      ],
      "text/html": "<div>\n<style scoped>\n    .dataframe tbody tr th:only-of-type {\n        vertical-align: middle;\n    }\n\n    .dataframe tbody tr th {\n        vertical-align: top;\n    }\n\n    .dataframe thead th {\n        text-align: right;\n    }\n</style>\n<table border=\"1\" class=\"dataframe\">\n  <thead>\n    <tr style=\"text-align: right;\">\n      <th></th>\n      <th>country</th>\n      <th>year</th>\n      <th>pop_den</th>\n      <th>urb_gro</th>\n      <th>pop</th>\n      <th>pop_gro</th>\n      <th>co2_emi</th>\n      <th>life_exp</th>\n    </tr>\n  </thead>\n  <tbody>\n    <tr>\n      <td>1950</td>\n      <td>Afghanistan</td>\n      <td>1960</td>\n      <td>13.80</td>\n      <td>0.0516</td>\n      <td>9000000.0</td>\n      <td>0.01830</td>\n      <td>0.046</td>\n      <td>39.3</td>\n    </tr>\n    <tr>\n      <td>1951</td>\n      <td>Albania</td>\n      <td>1960</td>\n      <td>59.70</td>\n      <td>0.0539</td>\n      <td>1640000.0</td>\n      <td>0.03020</td>\n      <td>1.240</td>\n      <td>62.2</td>\n    </tr>\n    <tr>\n      <td>1952</td>\n      <td>Algeria</td>\n      <td>1960</td>\n      <td>4.64</td>\n      <td>0.0553</td>\n      <td>11100000.0</td>\n      <td>0.02520</td>\n      <td>0.557</td>\n      <td>52.5</td>\n    </tr>\n    <tr>\n      <td>1954</td>\n      <td>Angola</td>\n      <td>1960</td>\n      <td>4.38</td>\n      <td>0.0453</td>\n      <td>5450000.0</td>\n      <td>0.01370</td>\n      <td>0.101</td>\n      <td>40.6</td>\n    </tr>\n    <tr>\n      <td>1955</td>\n      <td>Antigua and Barbuda</td>\n      <td>1960</td>\n      <td>123.00</td>\n      <td>0.0338</td>\n      <td>54100.0</td>\n      <td>0.01690</td>\n      <td>0.677</td>\n      <td>63.3</td>\n    </tr>\n    <tr>\n      <td>...</td>\n      <td>...</td>\n      <td>...</td>\n      <td>...</td>\n      <td>...</td>\n      <td>...</td>\n      <td>...</td>\n      <td>...</td>\n      <td>...</td>\n    </tr>\n    <tr>\n      <td>13450</td>\n      <td>Venezuela</td>\n      <td>2018</td>\n      <td>32.70</td>\n      <td>-0.0176</td>\n      <td>28900000.0</td>\n      <td>-0.01790</td>\n      <td>4.810</td>\n      <td>75.2</td>\n    </tr>\n    <tr>\n      <td>13451</td>\n      <td>Vietnam</td>\n      <td>2018</td>\n      <td>308.00</td>\n      <td>0.0298</td>\n      <td>95500000.0</td>\n      <td>0.00993</td>\n      <td>2.160</td>\n      <td>74.6</td>\n    </tr>\n    <tr>\n      <td>13452</td>\n      <td>Yemen</td>\n      <td>2018</td>\n      <td>54.00</td>\n      <td>0.0408</td>\n      <td>28500000.0</td>\n      <td>0.02360</td>\n      <td>0.356</td>\n      <td>68.1</td>\n    </tr>\n    <tr>\n      <td>13453</td>\n      <td>Zambia</td>\n      <td>2018</td>\n      <td>23.30</td>\n      <td>0.0417</td>\n      <td>17400000.0</td>\n      <td>0.02910</td>\n      <td>0.302</td>\n      <td>63.7</td>\n    </tr>\n    <tr>\n      <td>13454</td>\n      <td>Zimbabwe</td>\n      <td>2018</td>\n      <td>37.30</td>\n      <td>0.0132</td>\n      <td>14400000.0</td>\n      <td>0.01410</td>\n      <td>0.850</td>\n      <td>61.7</td>\n    </tr>\n  </tbody>\n</table>\n<p>10555 rows × 8 columns</p>\n</div>"
     },
     "metadata": {},
     "execution_count": 18
    }
   ],
   "source": []
  }
 ]
}