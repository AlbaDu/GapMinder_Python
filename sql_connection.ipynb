{
 "metadata": {
  "language_info": {
   "codemirror_mode": {
    "name": "ipython",
    "version": 3
   },
   "file_extension": ".py",
   "mimetype": "text/x-python",
   "name": "python",
   "nbconvert_exporter": "python",
   "pygments_lexer": "ipython3",
   "version": "3.7.6-final"
  },
  "orig_nbformat": 2,
  "kernelspec": {
   "name": "Python 3.7.6 64-bit ('base': conda)",
   "display_name": "Python 3.7.6 64-bit ('base': conda)",
   "metadata": {
    "interpreter": {
     "hash": "90e3fb49db024d09987aedecd404f9e68bdaac879e88c8e6fedfd0c4158396c5"
    }
   }
  }
 },
 "nbformat": 4,
 "nbformat_minor": 2,
 "cells": [
  {
   "source": [
    "## STEP 1: Data Loading \n",
    "The first step of this project is to load the necesary data, in which our project is going to be based. Combining this jupyter notebook with the **data.py** script we will be able to:\n",
    "\n",
    "        1. Import data from files to independent dataframes.\n",
    "        2. Reshape dataframes into an appropiate data structure for ML methods.\n",
    "        3. Combining the features that could be used as predicting values, by Country and Year in a new dataframe. "
   ],
   "cell_type": "markdown",
   "metadata": {}
  },
  {
   "cell_type": "code",
   "execution_count": 1,
   "metadata": {},
   "outputs": [],
   "source": [
    "import pandas as pd\n",
    "import numpy as np\n",
    "import datetime\n",
    "import data "
   ]
  },
  {
   "cell_type": "code",
   "execution_count": 2,
   "metadata": {},
   "outputs": [],
   "source": [
    "pop_den = data.file2df(file_ = \"population_density.csv\")\n",
    "urb_gro = data.file2df(file_ = \"urban_growth.csv\")\n",
    "pop = data.file2df(file_ = \"population.csv\")\n",
    "pop_gro = data.file2df(file_ = \"population_growth.csv\")\n",
    "life_exp = data.file2df(file_ = \"life_expectancy.csv\")\n",
    "co2_emi = data.file2df(file_ = \"co2_emissions.csv\")"
   ]
  },
  {
   "cell_type": "code",
   "execution_count": 3,
   "metadata": {},
   "outputs": [],
   "source": [
    "target = data.file2df(file_ = \"energy_person_ratio.csv\")"
   ]
  },
  {
   "cell_type": "code",
   "execution_count": 4,
   "metadata": {},
   "outputs": [
    {
     "output_type": "execute_result",
     "data": {
      "text/plain": [
       "       country   1950   1951   1952   1953   1954   1955   1956   1957   1958  \\\n",
       "0  Afghanistan  11.90  12.00  12.20  12.30  12.50  12.70  12.90  13.10  13.30   \n",
       "1      Albania  46.10  47.00  48.00  49.20  50.50  51.80  53.30  54.80  56.30   \n",
       "2      Algeria   3.73   3.79   3.86   3.93   4.01   4.10   4.20   4.31   4.41   \n",
       "3      Andorra  13.20  14.20  15.40  16.70  18.20  19.60  21.20  22.90  24.70   \n",
       "4       Angola   3.65   3.70   3.78   3.87   3.96   4.05   4.12   4.19   4.26   \n",
       "\n",
       "   ...   2091   2092   2093   2094   2095   2096   2097   2098   2099   2100  \n",
       "0  ...  117.0  117.0  117.0  117.0  116.0  116.0  116.0  115.0  115.0  115.0  \n",
       "1  ...   48.5   47.5   46.5   45.5   44.5   43.5   42.5   41.6   40.6   39.7  \n",
       "2  ...   29.6   29.6   29.6   29.6   29.7   29.7   29.7   29.7   29.7   29.7  \n",
       "3  ...  134.0  134.0  134.0  134.0  133.0  133.0  133.0  133.0  133.0  133.0  \n",
       "4  ...  135.0  136.0  138.0  140.0  142.0  144.0  146.0  147.0  149.0  151.0  \n",
       "\n",
       "[5 rows x 152 columns]"
      ],
      "text/html": "<div>\n<style scoped>\n    .dataframe tbody tr th:only-of-type {\n        vertical-align: middle;\n    }\n\n    .dataframe tbody tr th {\n        vertical-align: top;\n    }\n\n    .dataframe thead th {\n        text-align: right;\n    }\n</style>\n<table border=\"1\" class=\"dataframe\">\n  <thead>\n    <tr style=\"text-align: right;\">\n      <th></th>\n      <th>country</th>\n      <th>1950</th>\n      <th>1951</th>\n      <th>1952</th>\n      <th>1953</th>\n      <th>1954</th>\n      <th>1955</th>\n      <th>1956</th>\n      <th>1957</th>\n      <th>1958</th>\n      <th>...</th>\n      <th>2091</th>\n      <th>2092</th>\n      <th>2093</th>\n      <th>2094</th>\n      <th>2095</th>\n      <th>2096</th>\n      <th>2097</th>\n      <th>2098</th>\n      <th>2099</th>\n      <th>2100</th>\n    </tr>\n  </thead>\n  <tbody>\n    <tr>\n      <th>0</th>\n      <td>Afghanistan</td>\n      <td>11.90</td>\n      <td>12.00</td>\n      <td>12.20</td>\n      <td>12.30</td>\n      <td>12.50</td>\n      <td>12.70</td>\n      <td>12.90</td>\n      <td>13.10</td>\n      <td>13.30</td>\n      <td>...</td>\n      <td>117.0</td>\n      <td>117.0</td>\n      <td>117.0</td>\n      <td>117.0</td>\n      <td>116.0</td>\n      <td>116.0</td>\n      <td>116.0</td>\n      <td>115.0</td>\n      <td>115.0</td>\n      <td>115.0</td>\n    </tr>\n    <tr>\n      <th>1</th>\n      <td>Albania</td>\n      <td>46.10</td>\n      <td>47.00</td>\n      <td>48.00</td>\n      <td>49.20</td>\n      <td>50.50</td>\n      <td>51.80</td>\n      <td>53.30</td>\n      <td>54.80</td>\n      <td>56.30</td>\n      <td>...</td>\n      <td>48.5</td>\n      <td>47.5</td>\n      <td>46.5</td>\n      <td>45.5</td>\n      <td>44.5</td>\n      <td>43.5</td>\n      <td>42.5</td>\n      <td>41.6</td>\n      <td>40.6</td>\n      <td>39.7</td>\n    </tr>\n    <tr>\n      <th>2</th>\n      <td>Algeria</td>\n      <td>3.73</td>\n      <td>3.79</td>\n      <td>3.86</td>\n      <td>3.93</td>\n      <td>4.01</td>\n      <td>4.10</td>\n      <td>4.20</td>\n      <td>4.31</td>\n      <td>4.41</td>\n      <td>...</td>\n      <td>29.6</td>\n      <td>29.6</td>\n      <td>29.6</td>\n      <td>29.6</td>\n      <td>29.7</td>\n      <td>29.7</td>\n      <td>29.7</td>\n      <td>29.7</td>\n      <td>29.7</td>\n      <td>29.7</td>\n    </tr>\n    <tr>\n      <th>3</th>\n      <td>Andorra</td>\n      <td>13.20</td>\n      <td>14.20</td>\n      <td>15.40</td>\n      <td>16.70</td>\n      <td>18.20</td>\n      <td>19.60</td>\n      <td>21.20</td>\n      <td>22.90</td>\n      <td>24.70</td>\n      <td>...</td>\n      <td>134.0</td>\n      <td>134.0</td>\n      <td>134.0</td>\n      <td>134.0</td>\n      <td>133.0</td>\n      <td>133.0</td>\n      <td>133.0</td>\n      <td>133.0</td>\n      <td>133.0</td>\n      <td>133.0</td>\n    </tr>\n    <tr>\n      <th>4</th>\n      <td>Angola</td>\n      <td>3.65</td>\n      <td>3.70</td>\n      <td>3.78</td>\n      <td>3.87</td>\n      <td>3.96</td>\n      <td>4.05</td>\n      <td>4.12</td>\n      <td>4.19</td>\n      <td>4.26</td>\n      <td>...</td>\n      <td>135.0</td>\n      <td>136.0</td>\n      <td>138.0</td>\n      <td>140.0</td>\n      <td>142.0</td>\n      <td>144.0</td>\n      <td>146.0</td>\n      <td>147.0</td>\n      <td>149.0</td>\n      <td>151.0</td>\n    </tr>\n  </tbody>\n</table>\n<p>5 rows × 152 columns</p>\n</div>"
     },
     "metadata": {},
     "execution_count": 4
    }
   ],
   "source": [
    "pop_den.head() #This is the raw structure of data, directly imported from GapMinder files."
   ]
  },
  {
   "cell_type": "code",
   "execution_count": 5,
   "metadata": {},
   "outputs": [],
   "source": [
    "pop_den_melt = data.melt_df(pop_den, \"population density\")\n",
    "urb_gro_melt = data.melt_df(urb_gro, \"urban growth\")\n",
    "pop_melt = data.melt_df(pop, \"population\")\n",
    "pop_gro_melt = data.melt_df(pop_gro, \"population growth\")\n",
    "co2_emi_melt = data.melt_df(co2_emi, \"co2 emissions\")\n",
    "life_exp_melt = data.melt_df(life_exp, \"life expectancy\")\n",
    "\n",
    "target_melt = data.melt_df(target, \"target\")"
   ]
  },
  {
   "cell_type": "code",
   "execution_count": 6,
   "metadata": {},
   "outputs": [
    {
     "output_type": "stream",
     "name": "stdout",
     "text": [
      "Current dfs to merge: ['pop_den_melt', 'urb_gro_melt', 'pop_melt', 'pop_gro_melt', 'co2_emi_melt', 'life_exp_melt']\n"
     ]
    },
    {
     "output_type": "execute_result",
     "data": {
      "text/plain": [
       "                   country  year  population density  urban growth  \\\n",
       "1950           Afghanistan  1960               13.80        0.0516   \n",
       "1951               Albania  1960               59.70        0.0539   \n",
       "1952               Algeria  1960                4.64        0.0553   \n",
       "1954                Angola  1960                4.38        0.0453   \n",
       "1955   Antigua and Barbuda  1960              123.00        0.0338   \n",
       "...                    ...   ...                 ...           ...   \n",
       "13450            Venezuela  2018               32.70       -0.0176   \n",
       "13451              Vietnam  2018              308.00        0.0298   \n",
       "13452                Yemen  2018               54.00        0.0408   \n",
       "13453               Zambia  2018               23.30        0.0417   \n",
       "13454             Zimbabwe  2018               37.30        0.0132   \n",
       "\n",
       "       population  population growth  co2 emissions  life expectancy  \n",
       "1950    9000000.0            0.01830          0.046             39.3  \n",
       "1951    1640000.0            0.03020          1.240             62.2  \n",
       "1952   11100000.0            0.02520          0.557             52.5  \n",
       "1954    5450000.0            0.01370          0.101             40.6  \n",
       "1955      54100.0            0.01690          0.677             63.3  \n",
       "...           ...                ...            ...              ...  \n",
       "13450  28900000.0           -0.01790          4.810             75.2  \n",
       "13451  95500000.0            0.00993          2.160             74.6  \n",
       "13452  28500000.0            0.02360          0.356             68.1  \n",
       "13453  17400000.0            0.02910          0.302             63.7  \n",
       "13454  14400000.0            0.01410          0.850             61.7  \n",
       "\n",
       "[10555 rows x 8 columns]"
      ],
      "text/html": "<div>\n<style scoped>\n    .dataframe tbody tr th:only-of-type {\n        vertical-align: middle;\n    }\n\n    .dataframe tbody tr th {\n        vertical-align: top;\n    }\n\n    .dataframe thead th {\n        text-align: right;\n    }\n</style>\n<table border=\"1\" class=\"dataframe\">\n  <thead>\n    <tr style=\"text-align: right;\">\n      <th></th>\n      <th>country</th>\n      <th>year</th>\n      <th>population density</th>\n      <th>urban growth</th>\n      <th>population</th>\n      <th>population growth</th>\n      <th>co2 emissions</th>\n      <th>life expectancy</th>\n    </tr>\n  </thead>\n  <tbody>\n    <tr>\n      <th>1950</th>\n      <td>Afghanistan</td>\n      <td>1960</td>\n      <td>13.80</td>\n      <td>0.0516</td>\n      <td>9000000.0</td>\n      <td>0.01830</td>\n      <td>0.046</td>\n      <td>39.3</td>\n    </tr>\n    <tr>\n      <th>1951</th>\n      <td>Albania</td>\n      <td>1960</td>\n      <td>59.70</td>\n      <td>0.0539</td>\n      <td>1640000.0</td>\n      <td>0.03020</td>\n      <td>1.240</td>\n      <td>62.2</td>\n    </tr>\n    <tr>\n      <th>1952</th>\n      <td>Algeria</td>\n      <td>1960</td>\n      <td>4.64</td>\n      <td>0.0553</td>\n      <td>11100000.0</td>\n      <td>0.02520</td>\n      <td>0.557</td>\n      <td>52.5</td>\n    </tr>\n    <tr>\n      <th>1954</th>\n      <td>Angola</td>\n      <td>1960</td>\n      <td>4.38</td>\n      <td>0.0453</td>\n      <td>5450000.0</td>\n      <td>0.01370</td>\n      <td>0.101</td>\n      <td>40.6</td>\n    </tr>\n    <tr>\n      <th>1955</th>\n      <td>Antigua and Barbuda</td>\n      <td>1960</td>\n      <td>123.00</td>\n      <td>0.0338</td>\n      <td>54100.0</td>\n      <td>0.01690</td>\n      <td>0.677</td>\n      <td>63.3</td>\n    </tr>\n    <tr>\n      <th>...</th>\n      <td>...</td>\n      <td>...</td>\n      <td>...</td>\n      <td>...</td>\n      <td>...</td>\n      <td>...</td>\n      <td>...</td>\n      <td>...</td>\n    </tr>\n    <tr>\n      <th>13450</th>\n      <td>Venezuela</td>\n      <td>2018</td>\n      <td>32.70</td>\n      <td>-0.0176</td>\n      <td>28900000.0</td>\n      <td>-0.01790</td>\n      <td>4.810</td>\n      <td>75.2</td>\n    </tr>\n    <tr>\n      <th>13451</th>\n      <td>Vietnam</td>\n      <td>2018</td>\n      <td>308.00</td>\n      <td>0.0298</td>\n      <td>95500000.0</td>\n      <td>0.00993</td>\n      <td>2.160</td>\n      <td>74.6</td>\n    </tr>\n    <tr>\n      <th>13452</th>\n      <td>Yemen</td>\n      <td>2018</td>\n      <td>54.00</td>\n      <td>0.0408</td>\n      <td>28500000.0</td>\n      <td>0.02360</td>\n      <td>0.356</td>\n      <td>68.1</td>\n    </tr>\n    <tr>\n      <th>13453</th>\n      <td>Zambia</td>\n      <td>2018</td>\n      <td>23.30</td>\n      <td>0.0417</td>\n      <td>17400000.0</td>\n      <td>0.02910</td>\n      <td>0.302</td>\n      <td>63.7</td>\n    </tr>\n    <tr>\n      <th>13454</th>\n      <td>Zimbabwe</td>\n      <td>2018</td>\n      <td>37.30</td>\n      <td>0.0132</td>\n      <td>14400000.0</td>\n      <td>0.01410</td>\n      <td>0.850</td>\n      <td>61.7</td>\n    </tr>\n  </tbody>\n</table>\n<p>10555 rows × 8 columns</p>\n</div>"
     },
     "metadata": {},
     "execution_count": 6
    }
   ],
   "source": [
    "feature_dict = {\"pop_den_melt\":pop_den_melt, \"urb_gro_melt\": urb_gro_melt, \"pop_melt\": pop_melt, \"pop_gro_melt\": pop_gro_melt, \"co2_emi_melt\": co2_emi_melt, \"life_exp_melt\": life_exp_melt}\n",
    "merged_data = data.merge_all(feature_dict = feature_dict, keys = [\"country\", \"year\"])\n",
    "merged_data"
   ]
  },
  {
   "source": [
    "## STEP 2: Database generation and connection with SQL. \n",
    "The second step would be the creation of a MySQL database in which data will be store and organize in different tables, corresponding with the dataframes they come from. Combining this jupyter notebook and *sql.py* script we will be able to:\n",
    "\n",
    "        1. \n",
    "        2. \n",
    "        3. \n",
    "\n",
    "        "
   ],
   "cell_type": "markdown",
   "metadata": {}
  }
 ]
}