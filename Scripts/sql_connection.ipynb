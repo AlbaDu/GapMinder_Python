{
 "metadata": {
  "language_info": {
   "codemirror_mode": {
    "name": "ipython",
    "version": 3
   },
   "file_extension": ".py",
   "mimetype": "text/x-python",
   "name": "python",
   "nbconvert_exporter": "python",
   "pygments_lexer": "ipython3",
   "version": 3
  },
  "orig_nbformat": 2
 },
 "nbformat": 4,
 "nbformat_minor": 2,
 "cells": [
  {
   "source": [
    "## STEP 1: sql_connection.ipynb + db.py\n",
    "With this jupyter notebook combined with the *db.py* script we'll be able to:\n",
    "\n",
    "        1. Access to the rawdata files.\n",
    "        2. Transform the rawdata into dataframes with an appropiate structure that allows us to work with Machine Learning models.\n",
    "        3. Gerenate new .csv files with the re-structured data.\n",
    "        4. Extract from the dataframes, the necessary information to build from scratch a SQL DB to store our data.\n",
    "        5. Establish a connection with mySQL, to import the data of each of the dataframes directly in our DB."
   ],
   "cell_type": "markdown",
   "metadata": {}
  },
  {
   "cell_type": "code",
   "execution_count": null,
   "metadata": {},
   "outputs": [],
   "source": [
    "import pandas as pd\n",
    "import numpy as np\n",
    "import db "
   ]
  }
 ]
}