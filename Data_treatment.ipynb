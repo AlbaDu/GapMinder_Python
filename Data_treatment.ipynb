{
 "metadata": {
  "language_info": {
   "codemirror_mode": {
    "name": "ipython",
    "version": 3
   },
   "file_extension": ".py",
   "mimetype": "text/x-python",
   "name": "python",
   "nbconvert_exporter": "python",
   "pygments_lexer": "ipython3",
   "version": "3.7.4-final"
  },
  "orig_nbformat": 2,
  "kernelspec": {
   "name": "Python 3.7.4 64-bit ('base': conda)",
   "display_name": "Python 3.7.4 64-bit ('base': conda)",
   "metadata": {
    "interpreter": {
     "hash": "55d852cad6d72cd63413427ae4f5418f84914edf09935ce27cf78d516463fe5a"
    }
   }
  }
 },
 "nbformat": 4,
 "nbformat_minor": 2,
 "cells": [
  {
   "source": [
    "## STEP 1: Data Loading \n",
    "The first step of this project is to load the necesary data, in which our project is going to be based. Combaining this jupyter notebook with the **data.py** script we will be able to:\n",
    "\n",
    "        1. Import data from files to independent dataframes.\n",
    "        2. Reshape dataframes into an appropiate data structure for ML methods.\n",
    "        3. Combining the features that could be used as predicting values, by Country and Year in a new dataframe. "
   ],
   "cell_type": "markdown",
   "metadata": {}
  },
  {
   "cell_type": "code",
   "execution_count": 3,
   "metadata": {},
   "outputs": [],
   "source": [
    "import pandas as pd\n",
    "import numpy as np\n",
    "import data "
   ]
  },
  {
   "cell_type": "code",
   "execution_count": 2,
   "metadata": {},
   "outputs": [],
   "source": [
    "pop_den = data.file2df(file_ = \"population_density.csv\")\n",
    "urb_gro = data.file2df(file_ = \"urban_growth.csv\")\n",
    "pop = data.file2df(file_ = \"population.csv\")\n",
    "pop_gro = data.file2df(file_ = \"population_growth.csv\")\n",
    "life_exp = data.file2df(file_ = \"life_expectancy.csv\")\n",
    "co2_emi = data.file2df(file_ = \"co2_emissions.csv\")\n",
    "\n",
    "target = data.file2df(file_ = \"energy_person_ratio.csv\")"
   ]
  },
  {
   "cell_type": "code",
   "execution_count": 3,
   "metadata": {},
   "outputs": [
    {
     "output_type": "execute_result",
     "data": {
      "text/plain": [
       "       country   1950   1951   1952   1953   1954   1955   1956   1957   1958  \\\n",
       "0  Afghanistan  11.90  12.00  12.20  12.30  12.50  12.70  12.90  13.10  13.30   \n",
       "1      Albania  46.10  47.00  48.00  49.20  50.50  51.80  53.30  54.80  56.30   \n",
       "2      Algeria   3.73   3.79   3.86   3.93   4.01   4.10   4.20   4.31   4.41   \n",
       "3      Andorra  13.20  14.20  15.40  16.70  18.20  19.60  21.20  22.90  24.70   \n",
       "4       Angola   3.65   3.70   3.78   3.87   3.96   4.05   4.12   4.19   4.26   \n",
       "\n",
       "   ...   2091   2092   2093   2094   2095   2096   2097   2098   2099   2100  \n",
       "0  ...  117.0  117.0  117.0  117.0  116.0  116.0  116.0  115.0  115.0  115.0  \n",
       "1  ...   48.5   47.5   46.5   45.5   44.5   43.5   42.5   41.6   40.6   39.7  \n",
       "2  ...   29.6   29.6   29.6   29.6   29.7   29.7   29.7   29.7   29.7   29.7  \n",
       "3  ...  134.0  134.0  134.0  134.0  133.0  133.0  133.0  133.0  133.0  133.0  \n",
       "4  ...  135.0  136.0  138.0  140.0  142.0  144.0  146.0  147.0  149.0  151.0  \n",
       "\n",
       "[5 rows x 152 columns]"
      ],
      "text/html": "<div>\n<style scoped>\n    .dataframe tbody tr th:only-of-type {\n        vertical-align: middle;\n    }\n\n    .dataframe tbody tr th {\n        vertical-align: top;\n    }\n\n    .dataframe thead th {\n        text-align: right;\n    }\n</style>\n<table border=\"1\" class=\"dataframe\">\n  <thead>\n    <tr style=\"text-align: right;\">\n      <th></th>\n      <th>country</th>\n      <th>1950</th>\n      <th>1951</th>\n      <th>1952</th>\n      <th>1953</th>\n      <th>1954</th>\n      <th>1955</th>\n      <th>1956</th>\n      <th>1957</th>\n      <th>1958</th>\n      <th>...</th>\n      <th>2091</th>\n      <th>2092</th>\n      <th>2093</th>\n      <th>2094</th>\n      <th>2095</th>\n      <th>2096</th>\n      <th>2097</th>\n      <th>2098</th>\n      <th>2099</th>\n      <th>2100</th>\n    </tr>\n  </thead>\n  <tbody>\n    <tr>\n      <th>0</th>\n      <td>Afghanistan</td>\n      <td>11.90</td>\n      <td>12.00</td>\n      <td>12.20</td>\n      <td>12.30</td>\n      <td>12.50</td>\n      <td>12.70</td>\n      <td>12.90</td>\n      <td>13.10</td>\n      <td>13.30</td>\n      <td>...</td>\n      <td>117.0</td>\n      <td>117.0</td>\n      <td>117.0</td>\n      <td>117.0</td>\n      <td>116.0</td>\n      <td>116.0</td>\n      <td>116.0</td>\n      <td>115.0</td>\n      <td>115.0</td>\n      <td>115.0</td>\n    </tr>\n    <tr>\n      <th>1</th>\n      <td>Albania</td>\n      <td>46.10</td>\n      <td>47.00</td>\n      <td>48.00</td>\n      <td>49.20</td>\n      <td>50.50</td>\n      <td>51.80</td>\n      <td>53.30</td>\n      <td>54.80</td>\n      <td>56.30</td>\n      <td>...</td>\n      <td>48.5</td>\n      <td>47.5</td>\n      <td>46.5</td>\n      <td>45.5</td>\n      <td>44.5</td>\n      <td>43.5</td>\n      <td>42.5</td>\n      <td>41.6</td>\n      <td>40.6</td>\n      <td>39.7</td>\n    </tr>\n    <tr>\n      <th>2</th>\n      <td>Algeria</td>\n      <td>3.73</td>\n      <td>3.79</td>\n      <td>3.86</td>\n      <td>3.93</td>\n      <td>4.01</td>\n      <td>4.10</td>\n      <td>4.20</td>\n      <td>4.31</td>\n      <td>4.41</td>\n      <td>...</td>\n      <td>29.6</td>\n      <td>29.6</td>\n      <td>29.6</td>\n      <td>29.6</td>\n      <td>29.7</td>\n      <td>29.7</td>\n      <td>29.7</td>\n      <td>29.7</td>\n      <td>29.7</td>\n      <td>29.7</td>\n    </tr>\n    <tr>\n      <th>3</th>\n      <td>Andorra</td>\n      <td>13.20</td>\n      <td>14.20</td>\n      <td>15.40</td>\n      <td>16.70</td>\n      <td>18.20</td>\n      <td>19.60</td>\n      <td>21.20</td>\n      <td>22.90</td>\n      <td>24.70</td>\n      <td>...</td>\n      <td>134.0</td>\n      <td>134.0</td>\n      <td>134.0</td>\n      <td>134.0</td>\n      <td>133.0</td>\n      <td>133.0</td>\n      <td>133.0</td>\n      <td>133.0</td>\n      <td>133.0</td>\n      <td>133.0</td>\n    </tr>\n    <tr>\n      <th>4</th>\n      <td>Angola</td>\n      <td>3.65</td>\n      <td>3.70</td>\n      <td>3.78</td>\n      <td>3.87</td>\n      <td>3.96</td>\n      <td>4.05</td>\n      <td>4.12</td>\n      <td>4.19</td>\n      <td>4.26</td>\n      <td>...</td>\n      <td>135.0</td>\n      <td>136.0</td>\n      <td>138.0</td>\n      <td>140.0</td>\n      <td>142.0</td>\n      <td>144.0</td>\n      <td>146.0</td>\n      <td>147.0</td>\n      <td>149.0</td>\n      <td>151.0</td>\n    </tr>\n  </tbody>\n</table>\n<p>5 rows × 152 columns</p>\n</div>"
     },
     "metadata": {},
     "execution_count": 3
    }
   ],
   "source": [
    "pop_den.head() #Raw structure of dataframes, directly imported from GapMinder files."
   ]
  },
  {
   "cell_type": "code",
   "execution_count": 6,
   "metadata": {},
   "outputs": [],
   "source": [
    "pop_den_melt = data.melt_df(pop_den, \"population density\")\n",
    "urb_gro_melt = data.melt_df(urb_gro, \"urban growth\")\n",
    "pop_melt = data.melt_df(pop, \"population\")\n",
    "pop_gro_melt = data.melt_df(pop_gro, \"population_growth\")\n",
    "co2_emi_melt = data.melt_df(co2_emi, \"co2_emissions\")\n",
    "life_exp_melt = data.melt_df(life_exp, \"life_expectancy\")\n",
    "\n",
    "target_melt = data.melt_df(target, \"target\")"
   ]
  },
  {
   "cell_type": "code",
   "execution_count": 7,
   "metadata": {},
   "outputs": [
    {
     "output_type": "execute_result",
     "data": {
      "text/plain": [
       "                  country  year  population density  urban growth  population  \\\n",
       "1950          Afghanistan  1960               13.80        0.0516   9000000.0   \n",
       "1951              Albania  1960               59.70        0.0539   1640000.0   \n",
       "1952              Algeria  1960                4.64        0.0553  11100000.0   \n",
       "1954               Angola  1960                4.38        0.0453   5450000.0   \n",
       "1955  Antigua and Barbuda  1960              123.00        0.0338     54100.0   \n",
       "\n",
       "      population_growth  co2_emissions  life_expectancy  \n",
       "1950             0.0183          0.046             39.3  \n",
       "1951             0.0302          1.240             62.2  \n",
       "1952             0.0252          0.557             52.5  \n",
       "1954             0.0137          0.101             40.6  \n",
       "1955             0.0169          0.677             63.3  "
      ],
      "text/html": "<div>\n<style scoped>\n    .dataframe tbody tr th:only-of-type {\n        vertical-align: middle;\n    }\n\n    .dataframe tbody tr th {\n        vertical-align: top;\n    }\n\n    .dataframe thead th {\n        text-align: right;\n    }\n</style>\n<table border=\"1\" class=\"dataframe\">\n  <thead>\n    <tr style=\"text-align: right;\">\n      <th></th>\n      <th>country</th>\n      <th>year</th>\n      <th>population density</th>\n      <th>urban growth</th>\n      <th>population</th>\n      <th>population_growth</th>\n      <th>co2_emissions</th>\n      <th>life_expectancy</th>\n    </tr>\n  </thead>\n  <tbody>\n    <tr>\n      <th>1950</th>\n      <td>Afghanistan</td>\n      <td>1960</td>\n      <td>13.80</td>\n      <td>0.0516</td>\n      <td>9000000.0</td>\n      <td>0.0183</td>\n      <td>0.046</td>\n      <td>39.3</td>\n    </tr>\n    <tr>\n      <th>1951</th>\n      <td>Albania</td>\n      <td>1960</td>\n      <td>59.70</td>\n      <td>0.0539</td>\n      <td>1640000.0</td>\n      <td>0.0302</td>\n      <td>1.240</td>\n      <td>62.2</td>\n    </tr>\n    <tr>\n      <th>1952</th>\n      <td>Algeria</td>\n      <td>1960</td>\n      <td>4.64</td>\n      <td>0.0553</td>\n      <td>11100000.0</td>\n      <td>0.0252</td>\n      <td>0.557</td>\n      <td>52.5</td>\n    </tr>\n    <tr>\n      <th>1954</th>\n      <td>Angola</td>\n      <td>1960</td>\n      <td>4.38</td>\n      <td>0.0453</td>\n      <td>5450000.0</td>\n      <td>0.0137</td>\n      <td>0.101</td>\n      <td>40.6</td>\n    </tr>\n    <tr>\n      <th>1955</th>\n      <td>Antigua and Barbuda</td>\n      <td>1960</td>\n      <td>123.00</td>\n      <td>0.0338</td>\n      <td>54100.0</td>\n      <td>0.0169</td>\n      <td>0.677</td>\n      <td>63.3</td>\n    </tr>\n  </tbody>\n</table>\n</div>"
     },
     "metadata": {},
     "execution_count": 7
    }
   ],
   "source": [
    "feature_dict = {\"pop_den_melt\":pop_den_melt, \"urb_gro_melt\": urb_gro_melt, \"pop_melt\": pop_melt, \"pop_gro_melt\": pop_gro_melt, \"co2_emi_melt\": co2_emi_melt, \"life_exp_melt\": life_exp_melt}\n",
    "merged_data = data.merge_all(feature_dict = feature_dict, keys = [\"country\", \"year\"])\n",
    "merged_data.head() #Final structure of data, that will be used in the prediction of the target."
   ]
  },
  {
   "cell_type": "code",
   "execution_count": 10,
   "metadata": {},
   "outputs": [],
   "source": [
    "data.df2file(df = merged_data) #Stored data into csv file at Processed_data folder\n",
    "data.df2file(df = target)"
   ]
  },
  {
   "source": [
    "## STEP 2: Database generation and connection with SQL. \n",
    "The second stage of the project would be the creation of a database in MySQL in were the data from the dataframes, could be store and organized in their corresponding tables, in order to easy up the queries process and data accessibility. This notebook combined with the *sql.py* script will allow us to:\n",
    "\n",
    "        1. Automatically obtained the information needed for the creation of MySQL table for each of the dataframes\n",
    "        2. \n",
    "        3. "
   ],
   "cell_type": "markdown",
   "metadata": {}
  },
  {
   "cell_type": "code",
   "execution_count": 8,
   "metadata": {},
   "outputs": [
    {
     "output_type": "stream",
     "name": "stdout",
     "text": [
      "<class 'pandas.core.frame.DataFrame'>\nInt64Index: 10555 entries, 1950 to 13454\nData columns (total 8 columns):\n #   Column              Non-Null Count  Dtype  \n---  ------              --------------  -----  \n 0   country             10555 non-null  object \n 1   year                10555 non-null  object \n 2   population density  10555 non-null  float64\n 3   urban growth        10555 non-null  float64\n 4   population          10555 non-null  float64\n 5   population_growth   10555 non-null  float64\n 6   co2_emissions       10555 non-null  float64\n 7   life_expectancy     10555 non-null  float64\ndtypes: float64(6), object(2)\nmemory usage: 742.1+ KB\n"
     ]
    }
   ],
   "source": [
    "merged_data.info()"
   ]
  }
 ]
}